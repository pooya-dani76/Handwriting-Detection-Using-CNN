{
  "nbformat": 4,
  "nbformat_minor": 0,
  "metadata": {
    "colab": {
      "name": "Digit Handwriting Detection.ipynb",
      "provenance": [],
      "collapsed_sections": []
    },
    "kernelspec": {
      "name": "python3",
      "display_name": "Python 3"
    },
    "language_info": {
      "name": "python"
    },
    "accelerator": "TPU"
  },
  "cells": [
    {
      "cell_type": "code",
      "metadata": {
        "id": "c23K_It1SPqm"
      },
      "source": [
        "from tensorflow.keras.layers import Dense, Flatten, Dropout\n",
        "from tensorflow.keras.layers import Conv2D, MaxPooling2D\n",
        "from tensorflow.keras.regularizers import l1, l2, l1_l2\n",
        "from tensorflow.keras.utils import to_categorical\n",
        "from tensorflow.keras.models import Sequential\n",
        "from tensorflow.keras.optimizers import Adam\n",
        "from tensorflow.keras.datasets import mnist\n",
        "import matplotlib.pyplot as plt\n",
        "import numpy as np"
      ],
      "execution_count": 1,
      "outputs": []
    },
    {
      "cell_type": "code",
      "metadata": {
        "id": "MYo0n4d8Tmkp"
      },
      "source": [
        "(images_train, labels_train), (images_test, labels_test) = mnist.load_data() "
      ],
      "execution_count": 2,
      "outputs": []
    },
    {
      "cell_type": "code",
      "metadata": {
        "id": "Lv0cUfsAkfvv"
      },
      "source": [
        "image_height = 28\n",
        "image_width = 28\n",
        "channel = 1\n",
        "input_shape = (image_height, image_width, channel)\n",
        "number_classes = 10\n",
        "batch_size = 20\n",
        "epochs = 6\n",
        "optimizer = Adam(learning_rate = 0.0001)"
      ],
      "execution_count": 3,
      "outputs": []
    },
    {
      "cell_type": "code",
      "metadata": {
        "colab": {
          "base_uri": "https://localhost:8080/"
        },
        "id": "HfeS-yiGSXU2",
        "outputId": "9ba8f61c-b27e-473e-bd94-9fc82957d6a7"
      },
      "source": [
        "images_train = images_train.astype('float32')\n",
        "images_test = images_test.astype('float32')\n",
        "\n",
        "train_labels = to_categorical(labels_train)\n",
        "test_labels = to_categorical(labels_test)\n",
        "images_train[0].shape"
      ],
      "execution_count": 4,
      "outputs": [
        {
          "output_type": "execute_result",
          "data": {
            "text/plain": [
              "(28, 28)"
            ]
          },
          "metadata": {},
          "execution_count": 4
        }
      ]
    },
    {
      "cell_type": "code",
      "metadata": {
        "id": "pO0mf3arTZDg"
      },
      "source": [
        "model = Sequential()\n",
        "model.add(Conv2D(filters = 4, kernel_size = (3, 3), strides = (1, 1), padding = 'same', \n",
        "                 activation = 'relu', input_shape = input_shape, kernel_regularizer= l1(0.001)))\n",
        "model.add(MaxPooling2D(pool_size = (2, 2), strides = (2, 2)))\n",
        "model.add(Conv2D(filters = 8, kernel_size = (3, 3), padding = 'same', activation = 'relu', kernel_regularizer= l1(0.001)))\n",
        "model.add(MaxPooling2D(pool_size = (2, 2), strides = (2, 2)))\n",
        "model.add(Flatten())\n",
        "model.add(Dense(16, activation = 'relu'))\n",
        "Dropout(0.2)\n",
        "model.add(Dense(number_classes, activation = 'softmax'))"
      ],
      "execution_count": 5,
      "outputs": []
    },
    {
      "cell_type": "code",
      "metadata": {
        "colab": {
          "base_uri": "https://localhost:8080/"
        },
        "id": "6AKz_5cnl4bA",
        "outputId": "0eb70fdf-9d59-46e7-e08c-5824224810fc"
      },
      "source": [
        "model.compile(loss = 'categorical_crossentropy', optimizer = optimizer, metrics = ['accuracy'])\n",
        "print(model.summary())"
      ],
      "execution_count": 6,
      "outputs": [
        {
          "output_type": "stream",
          "name": "stdout",
          "text": [
            "Model: \"sequential\"\n",
            "_________________________________________________________________\n",
            " Layer (type)                Output Shape              Param #   \n",
            "=================================================================\n",
            " conv2d (Conv2D)             (None, 28, 28, 4)         40        \n",
            "                                                                 \n",
            " max_pooling2d (MaxPooling2D  (None, 14, 14, 4)        0         \n",
            " )                                                               \n",
            "                                                                 \n",
            " conv2d_1 (Conv2D)           (None, 14, 14, 8)         296       \n",
            "                                                                 \n",
            " max_pooling2d_1 (MaxPooling  (None, 7, 7, 8)          0         \n",
            " 2D)                                                             \n",
            "                                                                 \n",
            " flatten (Flatten)           (None, 392)               0         \n",
            "                                                                 \n",
            " dense (Dense)               (None, 16)                6288      \n",
            "                                                                 \n",
            " dense_1 (Dense)             (None, 10)                170       \n",
            "                                                                 \n",
            "=================================================================\n",
            "Total params: 6,794\n",
            "Trainable params: 6,794\n",
            "Non-trainable params: 0\n",
            "_________________________________________________________________\n",
            "None\n"
          ]
        }
      ]
    },
    {
      "cell_type": "code",
      "metadata": {
        "colab": {
          "base_uri": "https://localhost:8080/"
        },
        "id": "4TFOA3v39Ogc",
        "outputId": "988e80ae-d162-427f-9b9a-0814d6269646"
      },
      "source": [
        "print(images_train.shape)\n",
        "print(train_labels.shape)"
      ],
      "execution_count": 7,
      "outputs": [
        {
          "output_type": "stream",
          "name": "stdout",
          "text": [
            "(60000, 28, 28)\n",
            "(60000, 10)\n"
          ]
        }
      ]
    },
    {
      "cell_type": "code",
      "metadata": {
        "colab": {
          "base_uri": "https://localhost:8080/"
        },
        "id": "fY-6VmNFox-h",
        "outputId": "3606fcd7-a2e9-44b1-d523-0c523986a536"
      },
      "source": [
        "ModelHistory = model.fit(images_train, train_labels, validation_split = 0.10, epochs = epochs, batch_size = batch_size)"
      ],
      "execution_count": 8,
      "outputs": [
        {
          "output_type": "stream",
          "name": "stdout",
          "text": [
            "Epoch 1/6\n",
            "2700/2700 [==============================] - 25s 9ms/step - loss: 3.1419 - accuracy: 0.2445 - val_loss: 1.9211 - val_accuracy: 0.3277\n",
            "Epoch 2/6\n",
            "2700/2700 [==============================] - 25s 9ms/step - loss: 1.3858 - accuracy: 0.5722 - val_loss: 0.8743 - val_accuracy: 0.7517\n",
            "Epoch 3/6\n",
            "2700/2700 [==============================] - 25s 9ms/step - loss: 0.7918 - accuracy: 0.7859 - val_loss: 0.5368 - val_accuracy: 0.8562\n",
            "Epoch 4/6\n",
            "2700/2700 [==============================] - 25s 9ms/step - loss: 0.4583 - accuracy: 0.8758 - val_loss: 0.2977 - val_accuracy: 0.9213\n",
            "Epoch 5/6\n",
            "2700/2700 [==============================] - 25s 9ms/step - loss: 0.2968 - accuracy: 0.9254 - val_loss: 0.2243 - val_accuracy: 0.9453\n",
            "Epoch 6/6\n",
            "2700/2700 [==============================] - 26s 10ms/step - loss: 0.2346 - accuracy: 0.9413 - val_loss: 0.1926 - val_accuracy: 0.9545\n"
          ]
        }
      ]
    },
    {
      "cell_type": "code",
      "metadata": {
        "colab": {
          "base_uri": "https://localhost:8080/",
          "height": 573
        },
        "id": "fL0QJ_N9tOuZ",
        "outputId": "f677371b-d80b-4d28-9749-f071896631c5"
      },
      "source": [
        "# Draw Loss Plot\n",
        "plt.plot(ModelHistory.history['loss'], color = 'blue', label = 'Traning Data Loss')\n",
        "plt.plot(ModelHistory.history['val_loss'], color = 'red', label = 'Validation Data Loss')\n",
        "plt.title('Loss')\n",
        "plt.xlabel('Epochs')\n",
        "plt.ylabel('Loss')\n",
        "plt.legend()\n",
        "plt.show()\n",
        "\n",
        "# Draw Accuracy Plot\n",
        "plt.plot(ModelHistory.history['accuracy'], color = 'blue', label = 'Traning Data Accuracy')\n",
        "plt.plot(ModelHistory.history['val_accuracy'], color = 'red', label = 'Validation Data Accuracy')\n",
        "plt.title('Accuracy')\n",
        "plt.xlabel('Epochs')\n",
        "plt.ylabel('Accuracy')\n",
        "plt.legend()\n",
        "plt.show()"
      ],
      "execution_count": 9,
      "outputs": [
        {
          "output_type": "display_data",
          "data": {
            "image/png": "[encoded data removed]",
            "text/plain": [
              "<Figure size 432x288 with 1 Axes>"
            ]
          },
          "metadata": {
            "needs_background": "light"
          }
        },
        {
          "output_type": "display_data",
          "data": {
            "image/png": "[encoded data removed]",
            "text/plain": [
              "<Figure size 432x288 with 1 Axes>"
            ]
          },
          "metadata": {
            "needs_background": "light"
          }
        }
      ]
    },
    {
      "cell_type": "code",
      "metadata": {
        "colab": {
          "base_uri": "https://localhost:8080/"
        },
        "id": "t5d00QwNNwhU",
        "outputId": "1eb34f61-3550-42f1-93a8-e160e9c434b6"
      },
      "source": [
        "test_loss, test_acc = model.evaluate(images_test, test_labels)\n",
        "print('test_acc:', test_acc)"
      ],
      "execution_count": 10,
      "outputs": [
        {
          "output_type": "stream",
          "name": "stdout",
          "text": [
            "313/313 [==============================] - 2s 7ms/step - loss: 0.2134 - accuracy: 0.9463\n",
            "test_acc: 0.9463000297546387\n"
          ]
        }
      ]
    }
  ]
}